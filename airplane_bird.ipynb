{
 "cells": [
  {
   "attachments": {},
   "cell_type": "markdown",
   "metadata": {},
   "source": [
    "# 區分鳥跟飛機"
   ]
  },
  {
   "attachments": {},
   "cell_type": "markdown",
   "metadata": {},
   "source": [
    "## Dataset"
   ]
  },
  {
   "cell_type": "code",
   "execution_count": 1,
   "metadata": {},
   "outputs": [
    {
     "name": "stdout",
     "output_type": "stream",
     "text": [
      "Files already downloaded and verified\n",
      "Files already downloaded and verified\n"
     ]
    }
   ],
   "source": [
    "from torchvision import datasets\n",
    "from torchvision import transforms\n",
    "\n",
    "data_path = './data'\n",
    "\n",
    "#下載訓練資料集\n",
    "cifar10 = datasets.CIFAR10(  \n",
    "    data_path, \n",
    "    train=True, #指定為True會下載訓練集資料\n",
    "    download=True, \n",
    "    transform=transforms.ToTensor() #加上transform..這樣拿到就是tensor而不是PIL圖片\n",
    ")\n",
    "\n",
    "#下載驗證資料集..差別在於train是否為true\n",
    "cifar10_val = datasets.CIFAR10(\n",
    "    data_path, \n",
    "    train=False, #指定為False會下載驗證集資料\n",
    "    download=True,\n",
    "    transform=transforms.ToTensor()\n",
    ") "
   ]
  },
  {
   "attachments": {},
   "cell_type": "markdown",
   "metadata": {},
   "source": [
    "## 取得資料資訊"
   ]
  },
  {
   "cell_type": "code",
   "execution_count": 2,
   "metadata": {},
   "outputs": [
    {
     "data": {
      "text/plain": [
       "torch.Size([3, 32, 32])"
      ]
     },
     "execution_count": 2,
     "metadata": {},
     "output_type": "execute_result"
    }
   ],
   "source": [
    "img, lable = cifar10[0] #取出一筆資料來觀查\n",
    "img.shape #得知圖片大小為32 x 32..第0軸為三原色RGB\n"
   ]
  },
  {
   "cell_type": "code",
   "execution_count": 3,
   "metadata": {},
   "outputs": [
    {
     "data": {
      "image/png": "[encoded data removed]",
      "text/plain": [
       "<Figure size 640x480 with 1 Axes>"
      ]
     },
     "metadata": {},
     "output_type": "display_data"
    }
   ],
   "source": [
    "from matplotlib import pyplot as plt\n",
    "plt.imshow(img.permute(1, 2, 0)) #將tensor的shape從C x H x W 轉成 H x W x C..才能符合plt要的格式\n",
    "plt.show()"
   ]
  },
  {
   "cell_type": "code",
   "execution_count": 4,
   "metadata": {},
   "outputs": [
    {
     "data": {
      "text/plain": [
       "torch.Size([3, 32, 32, 50000])"
      ]
     },
     "execution_count": 4,
     "metadata": {},
     "output_type": "execute_result"
    }
   ],
   "source": [
    "import torch\n",
    "\n",
    "#將 cifar10 堆疊(stack)到一個新的軸，方便計算平均值跟誤差\n",
    "imgs = torch.stack([img for img, _ in cifar10], dim=3) # dim=3代表堆疊到第3軸\n",
    "imgs.shape # 得知共有50000張圖.."
   ]
  },
  {
   "cell_type": "code",
   "execution_count": 5,
   "metadata": {},
   "outputs": [
    {
     "data": {
      "text/plain": [
       "tensor([0.4914, 0.4822, 0.4465])"
      ]
     },
     "execution_count": 5,
     "metadata": {},
     "output_type": "execute_result"
    }
   ],
   "source": [
    "# 計算每個通道的平均值.\n",
    "# view 3, -1會將第0軸保留..其它的軸合併在第1軸\n",
    "# 3 x 32 x 32 x 50000 會轉變成 3 x 51200000\n",
    "# 再用mean遍歷第1軸計算平均值\n",
    "imgs.view(3, -1).mean(dim=1) #dim=1代表mean第一軸\n"
   ]
  },
  {
   "cell_type": "code",
   "execution_count": 6,
   "metadata": {},
   "outputs": [
    {
     "data": {
      "text/plain": [
       "tensor([0.2470, 0.2435, 0.2616])"
      ]
     },
     "execution_count": 6,
     "metadata": {},
     "output_type": "execute_result"
    }
   ],
   "source": [
    "# 計算每個通道的標準差.\n",
    "# 把mean換成std..其它原理相同\n",
    "imgs.view(3, -1).std(dim=1)\n"
   ]
  },
  {
   "cell_type": "code",
   "execution_count": 7,
   "metadata": {},
   "outputs": [],
   "source": [
    "# 訓練資料正規化\n",
    "# 有了平均值跟標準差後.帶進transforms.Normalize就行\n",
    "# Normalize的實際公式: v_n[c] = (v[c] - mean[c]) / stdev[c] \n",
    "# v_n[c]: 將v[c]正規化的結果\n",
    "# v[c]: 位於通道上的某個值\n",
    "# mean: 平均值\n",
    "# stdev: 標準差\n",
    "normalized_cifar10 = datasets.CIFAR10(\n",
    "    data_path, \n",
    "    train=True, \n",
    "    download=False, #在Dataset時已經下載過..不用再下載了\n",
    "    transform=transforms.Compose([\n",
    "        transforms.ToTensor(),\n",
    "        transforms.Normalize( # 加上這裡\n",
    "            (0.4914, 0.4822, 0.4465), #平均值\n",
    "            (0.2470, 0.2435, 0.2616) #標準差\n",
    "        )\n",
    "    ])\n",
    ")\n",
    "\n",
    "# 驗證資料正規化\n",
    "normalized_cifar10_val = datasets.CIFAR10(\n",
    "    data_path, \n",
    "    train=False,\n",
    "    download=False,\n",
    "    transform=transforms.Compose([\n",
    "        transforms.ToTensor(),\n",
    "        transforms.Normalize( # 要跟訓練資料一樣的值來做正規化\n",
    "            (0.4914, 0.4822, 0.4465), #平均值\n",
    "            (0.2470, 0.2435, 0.2616) #標準差\n",
    "        )\n",
    "    ])\n",
    ")\n",
    "\n"
   ]
  },
  {
   "attachments": {},
   "cell_type": "markdown",
   "metadata": {},
   "source": [
    "## 從資料集中抽出鳥跟飛機"
   ]
  },
  {
   "cell_type": "code",
   "execution_count": 8,
   "metadata": {},
   "outputs": [],
   "source": [
    "label_map = {0: 0, 2: 1} #將飛機map到0,鳥map到1...飛機原本剛好就為0, 鳥也剛好為1\n",
    "class_names = ['airplane', 'bird']\n",
    "\n",
    "cifar2 = [(img, label_map[label]) for img, label in normalized_cifar10 if label in[0, 2]] # 取出訓練集中的鳥跟飛機\n",
    "cifar2_val = [(img, label_map[label]) for img, label in normalized_cifar10_val if label in[0, 2]] #取出驗證集中的鳥跟飛機"
   ]
  },
  {
   "attachments": {},
   "cell_type": "markdown",
   "metadata": {},
   "source": [
    "## 神經網路訓練"
   ]
  },
  {
   "cell_type": "code",
   "execution_count": 15,
   "metadata": {},
   "outputs": [
    {
     "name": "stdout",
     "output_type": "stream",
     "text": [
      "Epoch: 0, Loss: 0.539860\n",
      "Epoch: 1, Loss: 0.298767\n",
      "Epoch: 2, Loss: 0.623125\n",
      "Epoch: 3, Loss: 0.432798\n",
      "Epoch: 4, Loss: 0.318230\n",
      "Epoch: 5, Loss: 0.848618\n",
      "Epoch: 6, Loss: 0.426792\n",
      "Epoch: 7, Loss: 0.477694\n",
      "Epoch: 8, Loss: 0.312239\n",
      "Epoch: 9, Loss: 0.216247\n",
      "Epoch: 10, Loss: 0.429345\n",
      "Epoch: 11, Loss: 0.387021\n",
      "Epoch: 12, Loss: 0.540357\n",
      "Epoch: 13, Loss: 0.110712\n",
      "Epoch: 14, Loss: 0.432548\n",
      "Epoch: 15, Loss: 0.221295\n",
      "Epoch: 16, Loss: 0.174805\n",
      "Epoch: 17, Loss: 0.394944\n",
      "Epoch: 18, Loss: 0.435774\n",
      "Epoch: 19, Loss: 0.331669\n",
      "Epoch: 20, Loss: 0.218688\n",
      "Epoch: 21, Loss: 0.161846\n",
      "Epoch: 22, Loss: 0.462144\n",
      "Epoch: 23, Loss: 0.222880\n",
      "Epoch: 24, Loss: 0.364210\n",
      "Epoch: 25, Loss: 0.145831\n",
      "Epoch: 26, Loss: 0.194491\n",
      "Epoch: 27, Loss: 0.240990\n",
      "Epoch: 28, Loss: 0.319745\n",
      "Epoch: 29, Loss: 0.500974\n",
      "Epoch: 30, Loss: 0.269555\n",
      "Epoch: 31, Loss: 0.103343\n",
      "Epoch: 32, Loss: 0.081421\n",
      "Epoch: 33, Loss: 0.089222\n",
      "Epoch: 34, Loss: 0.111389\n",
      "Epoch: 35, Loss: 0.105613\n",
      "Epoch: 36, Loss: 0.680290\n",
      "Epoch: 37, Loss: 0.055938\n",
      "Epoch: 38, Loss: 0.226905\n",
      "Epoch: 39, Loss: 0.325107\n",
      "Epoch: 40, Loss: 2.629280\n",
      "Epoch: 41, Loss: 0.131383\n",
      "Epoch: 42, Loss: 0.185786\n",
      "Epoch: 43, Loss: 0.082828\n",
      "Epoch: 44, Loss: 0.278678\n",
      "Epoch: 45, Loss: 0.154815\n",
      "Epoch: 46, Loss: 0.058520\n",
      "Epoch: 47, Loss: 0.035006\n",
      "Epoch: 48, Loss: 0.006304\n",
      "Epoch: 49, Loss: 0.047057\n",
      "Epoch: 50, Loss: 0.043685\n",
      "Epoch: 51, Loss: 0.798207\n",
      "Epoch: 52, Loss: 0.026946\n",
      "Epoch: 53, Loss: 0.014774\n",
      "Epoch: 54, Loss: 0.748843\n",
      "Epoch: 55, Loss: 0.049468\n",
      "Epoch: 56, Loss: 0.007137\n",
      "Epoch: 57, Loss: 0.014944\n",
      "Epoch: 58, Loss: 0.014285\n",
      "Epoch: 59, Loss: 0.008329\n",
      "Epoch: 60, Loss: 0.061055\n",
      "Epoch: 61, Loss: 0.002802\n",
      "Epoch: 62, Loss: 0.009760\n",
      "Epoch: 63, Loss: 0.007297\n",
      "Epoch: 64, Loss: 0.030007\n",
      "Epoch: 65, Loss: 0.004592\n",
      "Epoch: 66, Loss: 0.002936\n",
      "Epoch: 67, Loss: 0.001317\n",
      "Epoch: 68, Loss: 0.005574\n",
      "Epoch: 69, Loss: 0.066668\n",
      "Epoch: 70, Loss: 0.013104\n",
      "Epoch: 71, Loss: 0.006804\n",
      "Epoch: 72, Loss: 0.059282\n",
      "Epoch: 73, Loss: 0.000816\n",
      "Epoch: 74, Loss: 0.007299\n",
      "Epoch: 75, Loss: 0.003223\n",
      "Epoch: 76, Loss: 0.003341\n",
      "Epoch: 77, Loss: 0.006112\n",
      "Epoch: 78, Loss: 0.002177\n",
      "Epoch: 79, Loss: 0.003714\n",
      "Epoch: 80, Loss: 0.005256\n",
      "Epoch: 81, Loss: 0.001473\n",
      "Epoch: 82, Loss: 0.004179\n",
      "Epoch: 83, Loss: 0.002999\n",
      "Epoch: 84, Loss: 0.015489\n",
      "Epoch: 85, Loss: 0.002243\n",
      "Epoch: 86, Loss: 0.004652\n",
      "Epoch: 87, Loss: 0.003437\n",
      "Epoch: 88, Loss: 0.007303\n",
      "Epoch: 89, Loss: 0.002429\n",
      "Epoch: 90, Loss: 0.001326\n",
      "Epoch: 91, Loss: 0.001001\n",
      "Epoch: 92, Loss: 0.002165\n",
      "Epoch: 93, Loss: 0.000278\n",
      "Epoch: 94, Loss: 0.001377\n",
      "Epoch: 95, Loss: 0.000343\n",
      "Epoch: 96, Loss: 0.000197\n",
      "Epoch: 97, Loss: 0.000283\n",
      "Epoch: 98, Loss: 0.000684\n",
      "Epoch: 99, Loss: 0.002617\n"
     ]
    }
   ],
   "source": [
    "import torch.nn as nn\n",
    "import torch.optim as optim\n",
    "\n",
    "# model = nn.Sequential(\n",
    "#     nn.Linear(3072, 512), # 3072 (3 x 32 x 32)為輸入特徵數..512為輸出特徵數\n",
    "#     nn.Tanh(), # Activite function\n",
    "#     nn.Linear(512, 2),\n",
    "#     nn.LogSoftmax(dim=1) #將輸出轉換成機率\n",
    "# )\n",
    "\n",
    "# model = nn.Sequential(\n",
    "#     nn.Linear(3072, 1024),\n",
    "#     nn.Tanh(),\n",
    "#     nn.Linear(1024, 512),\n",
    "#     nn.Tanh(),\n",
    "#     nn.Linear(512, 2),\n",
    "#     nn.LogSoftmax(dim=1) #將輸出轉換成機率\n",
    "# )\n",
    "\n",
    "model = nn.Sequential(\n",
    "    nn.Linear(3072, 1024), \n",
    "    nn.Tanh(),\n",
    "    nn.Linear(1024, 512),\n",
    "    nn.Tanh(),\n",
    "    nn.Linear(512, 128),\n",
    "    nn.Tanh(),\n",
    "    nn.Linear(128, 2),\n",
    "    nn.LogSoftmax(dim=1) #將輸出轉換成機率\n",
    ")\n",
    "\n",
    "# 學習率\n",
    "learning_rate = 0.01\n",
    "\n",
    "# Stochastic Gradient Descent(SGD)\n",
    "optimizer = optim.SGD(model.parameters(), lr=learning_rate)\n",
    "\n",
    "# loss function \n",
    "loss_fn = nn.NLLLoss() # negative log likelihood\n",
    "\n",
    "n_epochs = 100\n",
    "\n",
    "for epoch in range(n_epochs):\n",
    "    train_loader = torch.utils.data.DataLoader(cifar2, batch_size=64, shuffle=True)\n",
    "    for imgs, labels in train_loader:\n",
    "        batch_size=imgs.shape[0]\n",
    "        outputs = model(imgs.view(batch_size, -1))\n",
    "        loss = loss_fn(outputs, labels)\n",
    "                \n",
    "        optimizer.zero_grad()\n",
    "        loss.backward()\n",
    "        optimizer.step()\n",
    "\n",
    "    print(\"Epoch: %d, Loss: %f\" % (epoch, float(loss)))"
   ]
  },
  {
   "cell_type": "code",
   "execution_count": 16,
   "metadata": {},
   "outputs": [
    {
     "name": "stdout",
     "output_type": "stream",
     "text": [
      "Accuracy: 0.808000\n"
     ]
    }
   ],
   "source": [
    "#用驗證集的樣本來計算準確率\n",
    "correct = 0\n",
    "total = 0\n",
    "val_loader = torch.utils.data.DataLoader(cifar2_val, batch_size=64, shuffle=False) #驗證資料不shuffle..\n",
    "with torch.no_grad():\n",
    "    for imgs, labels in val_loader:\n",
    "        batch_size = imgs.shape[0]\n",
    "        outputs = model(imgs.view(batch_size, -1))\n",
    "        _, predicted = torch.max(outputs, dim=1) #取出機率最大的\n",
    "        total += labels.shape[0]\n",
    "        correct += int((predicted == labels).sum())\n",
    "\n",
    "print(\"Accuracy: %f\" % (correct / total))"
   ]
  }
 ],
 "metadata": {
  "kernelspec": {
   "display_name": "base",
   "language": "python",
   "name": "python3"
  },
  "language_info": {
   "codemirror_mode": {
    "name": "ipython",
    "version": 3
   },
   "file_extension": ".py",
   "mimetype": "text/x-python",
   "name": "python",
   "nbconvert_exporter": "python",
   "pygments_lexer": "ipython3",
   "version": "3.9.13"
  },
  "orig_nbformat": 4
 },
 "nbformat": 4,
 "nbformat_minor": 2
}
